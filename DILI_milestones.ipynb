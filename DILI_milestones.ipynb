{
 "cells": [
  {
   "cell_type": "code",
   "execution_count": 1,
   "metadata": {},
   "outputs": [
    {
     "data": {
      "text/html": [
       "<div>\n",
       "<style scoped>\n",
       "    .dataframe tbody tr th:only-of-type {\n",
       "        vertical-align: middle;\n",
       "    }\n",
       "\n",
       "    .dataframe tbody tr th {\n",
       "        vertical-align: top;\n",
       "    }\n",
       "\n",
       "    .dataframe thead th {\n",
       "        text-align: right;\n",
       "    }\n",
       "</style>\n",
       "<table border=\"1\" class=\"dataframe\">\n",
       "  <thead>\n",
       "    <tr style=\"text-align: right;\">\n",
       "      <th></th>\n",
       "      <th>chnm</th>\n",
       "      <th>Classification</th>\n",
       "      <th>casn</th>\n",
       "      <th>CmaxStand</th>\n",
       "      <th>testname</th>\n",
       "      <th>EC</th>\n",
       "      <th>tgt_abbr</th>\n",
       "    </tr>\n",
       "  </thead>\n",
       "  <tbody>\n",
       "    <tr>\n",
       "      <th>0</th>\n",
       "      <td>cladribine</td>\n",
       "      <td>AmbiDILIDrugs</td>\n",
       "      <td>4291-63-8</td>\n",
       "      <td>0.0227</td>\n",
       "      <td>ACEA_T47D_80hr_Negative</td>\n",
       "      <td>0.086121</td>\n",
       "      <td>ESR1</td>\n",
       "    </tr>\n",
       "    <tr>\n",
       "      <th>1</th>\n",
       "      <td>colchicine</td>\n",
       "      <td>AmbiDILIDrugs</td>\n",
       "      <td>64-86-8</td>\n",
       "      <td>0.0163</td>\n",
       "      <td>ACEA_T47D_80hr_Negative</td>\n",
       "      <td>0.001842</td>\n",
       "      <td>ESR1</td>\n",
       "    </tr>\n",
       "    <tr>\n",
       "      <th>2</th>\n",
       "      <td>disulfiram</td>\n",
       "      <td>MostDILI Drugs</td>\n",
       "      <td>97-77-8</td>\n",
       "      <td>5.4000</td>\n",
       "      <td>ACEA_T47D_80hr_Negative</td>\n",
       "      <td>21.760705</td>\n",
       "      <td>ESR1</td>\n",
       "    </tr>\n",
       "    <tr>\n",
       "      <th>3</th>\n",
       "      <td>estrone</td>\n",
       "      <td>AmbiDILIDrugs</td>\n",
       "      <td>53-16-7</td>\n",
       "      <td>0.0218</td>\n",
       "      <td>ACEA_T47D_80hr_Positive</td>\n",
       "      <td>0.008975</td>\n",
       "      <td>ESR1</td>\n",
       "    </tr>\n",
       "    <tr>\n",
       "      <th>4</th>\n",
       "      <td>norethindrone</td>\n",
       "      <td>AmbiDILIDrugs</td>\n",
       "      <td>68-22-4</td>\n",
       "      <td>0.0328</td>\n",
       "      <td>ACEA_T47D_80hr_Positive</td>\n",
       "      <td>0.006005</td>\n",
       "      <td>ESR1</td>\n",
       "    </tr>\n",
       "  </tbody>\n",
       "</table>\n",
       "</div>"
      ],
      "text/plain": [
       "            chnm  Classification       casn  CmaxStand  \\\n",
       "0     cladribine   AmbiDILIDrugs  4291-63-8     0.0227   \n",
       "1     colchicine   AmbiDILIDrugs    64-86-8     0.0163   \n",
       "2     disulfiram  MostDILI Drugs    97-77-8     5.4000   \n",
       "3        estrone   AmbiDILIDrugs    53-16-7     0.0218   \n",
       "4  norethindrone   AmbiDILIDrugs    68-22-4     0.0328   \n",
       "\n",
       "                  testname         EC tgt_abbr  \n",
       "0  ACEA_T47D_80hr_Negative   0.086121     ESR1  \n",
       "1  ACEA_T47D_80hr_Negative   0.001842     ESR1  \n",
       "2  ACEA_T47D_80hr_Negative  21.760705     ESR1  \n",
       "3  ACEA_T47D_80hr_Positive   0.008975     ESR1  \n",
       "4  ACEA_T47D_80hr_Positive   0.006005     ESR1  "
      ]
     },
     "execution_count": 1,
     "metadata": {},
     "output_type": "execute_result"
    }
   ],
   "source": [
    "import pandas as pd\n",
    "import numpy as np\n",
    "import matplotlib.pyplot as plt\n",
    "import seaborn as sns\n",
    "\n",
    "df= pd.read_csv('D:/NEU/ALY6980/med.csv')\n",
    "df.head(6)\n",
    "df['testname'] = df.testname.apply(lambda x: x.rsplit('_', 1)[0])\n",
    "\n",
    "df.head()"
   ]
  },
  {
   "cell_type": "code",
   "execution_count": 3,
   "metadata": {},
   "outputs": [],
   "source": [
    "from matplotlib import pyplot as plt\n",
    "\n",
    "up = df[df.testname.str.contains('up')]\n",
    "down = df[(df.testname.str.contains('down')) | (df.testname.str.contains('dn'))]"
   ]
  },
  {
   "cell_type": "code",
   "execution_count": 4,
   "metadata": {},
   "outputs": [
    {
     "data": {
      "image/png": "[encoded data removed]",
      "text/plain": [
       "<Figure size 432x288 with 1 Axes>"
      ]
     },
     "metadata": {},
     "output_type": "display_data"
    }
   ],
   "source": [
    "labels = ['up', 'down', 'other']\n",
    "sizes = [len(up), len(down), len(df) - len(up) - len(down)]\n",
    "plt.pie(sizes, labels=labels, autopct='%1.1f%%', shadow=False)\n",
    "plt.show()"
   ]
  },
  {
   "cell_type": "code",
   "execution_count": 5,
   "metadata": {},
   "outputs": [
    {
     "data": {
      "image/png": "[encoded data removed]",
      "text/plain": [
       "<Figure size 432x288 with 1 Axes>"
      ]
     },
     "metadata": {},
     "output_type": "display_data"
    }
   ],
   "source": [
    "plt.plot(up.Classification.value_counts())\n",
    "plt.plot(down.Classification.value_counts())\n",
    "plt.xlabel('Classification')\n",
    "plt.ylabel('Count')\n",
    "plt.legend(['up', 'down'])\n",
    "plt.show()"
   ]
  },
  {
   "cell_type": "code",
   "execution_count": 6,
   "metadata": {},
   "outputs": [
    {
     "data": {
      "text/html": [
       "<div>\n",
       "<style scoped>\n",
       "    .dataframe tbody tr th:only-of-type {\n",
       "        vertical-align: middle;\n",
       "    }\n",
       "\n",
       "    .dataframe tbody tr th {\n",
       "        vertical-align: top;\n",
       "    }\n",
       "\n",
       "    .dataframe thead th {\n",
       "        text-align: right;\n",
       "    }\n",
       "</style>\n",
       "<table border=\"1\" class=\"dataframe\">\n",
       "  <thead>\n",
       "    <tr style=\"text-align: right;\">\n",
       "      <th></th>\n",
       "      <th>EC_up</th>\n",
       "      <th>EC_down</th>\n",
       "    </tr>\n",
       "    <tr>\n",
       "      <th>index</th>\n",
       "      <th></th>\n",
       "      <th></th>\n",
       "    </tr>\n",
       "  </thead>\n",
       "  <tbody>\n",
       "    <tr>\n",
       "      <th>count</th>\n",
       "      <td>290.000000</td>\n",
       "      <td>404.000000</td>\n",
       "    </tr>\n",
       "    <tr>\n",
       "      <th>mean</th>\n",
       "      <td>18.792142</td>\n",
       "      <td>14.792232</td>\n",
       "    </tr>\n",
       "    <tr>\n",
       "      <th>std</th>\n",
       "      <td>27.895121</td>\n",
       "      <td>18.048510</td>\n",
       "    </tr>\n",
       "    <tr>\n",
       "      <th>min</th>\n",
       "      <td>0.000900</td>\n",
       "      <td>0.000631</td>\n",
       "    </tr>\n",
       "    <tr>\n",
       "      <th>25%</th>\n",
       "      <td>0.762684</td>\n",
       "      <td>3.131787</td>\n",
       "    </tr>\n",
       "    <tr>\n",
       "      <th>50%</th>\n",
       "      <td>7.113796</td>\n",
       "      <td>11.891007</td>\n",
       "    </tr>\n",
       "    <tr>\n",
       "      <th>75%</th>\n",
       "      <td>21.685469</td>\n",
       "      <td>20.451309</td>\n",
       "    </tr>\n",
       "    <tr>\n",
       "      <th>max</th>\n",
       "      <td>127.359783</td>\n",
       "      <td>163.568570</td>\n",
       "    </tr>\n",
       "  </tbody>\n",
       "</table>\n",
       "</div>"
      ],
      "text/plain": [
       "            EC_up     EC_down\n",
       "index                        \n",
       "count  290.000000  404.000000\n",
       "mean    18.792142   14.792232\n",
       "std     27.895121   18.048510\n",
       "min      0.000900    0.000631\n",
       "25%      0.762684    3.131787\n",
       "50%      7.113796   11.891007\n",
       "75%     21.685469   20.451309\n",
       "max    127.359783  163.568570"
      ]
     },
     "execution_count": 6,
     "metadata": {},
     "output_type": "execute_result"
    }
   ],
   "source": [
    "up_des = up[['EC']].describe()\n",
    "up_des['index'] = up_des.index\n",
    "up_des.rename(columns={'EC': 'EC_up'}, inplace=True)\n",
    "down_des = down[['EC']].describe()\n",
    "down_des['index'] = down_des.index\n",
    "down_des.rename(columns={'EC': 'EC_down'}, inplace=True)\n",
    "des_df = pd.merge(up_des, down_des, on='index')\n",
    "des_df.set_index('index', inplace=True)\n",
    "des_df"
   ]
  },
  {
   "cell_type": "code",
   "execution_count": 7,
   "metadata": {},
   "outputs": [
    {
     "data": {
      "text/plain": [
       "<Figure size 720x576 with 0 Axes>"
      ]
     },
     "metadata": {},
     "output_type": "display_data"
    },
    {
     "data": {
      "image/png": "[encoded data removed]",
      "text/plain": [
       "<Figure size 720x432 with 1 Axes>"
      ]
     },
     "metadata": {},
     "output_type": "display_data"
    }
   ],
   "source": [
    "plt.figure(figsize=(10, 8))\n",
    "substr = list(set(i[0] for i in df.testname.str.split('_')))\n",
    "ind = np.arange(4) * 2\n",
    "width = 0.1\n",
    "xlabel = ['MostDILI Drugs', 'LessDILIDrugs', 'AmbiDILIDrugs', 'NoDILI Drugs']\n",
    "fig, ax = plt.subplots(figsize=(10, 6))\n",
    "for i, v in enumerate(substr):\n",
    "    count = df[df.testname.str.startswith(v)].Classification.value_counts().reindex(xlabel).fillna(0).values\n",
    "    ax.bar(ind + width * i, count, width)\n",
    "\n",
    "ax.set_xticks(ind + width)\n",
    "ax.set_xticklabels(xlabel)\n",
    "plt.xlabel('Classification')\n",
    "plt.ylabel('Count')\n",
    "plt.legend(substr)\n",
    "plt.show()"
   ]
  }
 ],
 "metadata": {
  "kernelspec": {
   "display_name": "Python 2",
   "language": "python",
   "name": "python2"
  },
  "language_info": {
   "codemirror_mode": {
    "name": "ipython",
    "version": 2
   },
   "file_extension": ".py",
   "mimetype": "text/x-python",
   "name": "python",
   "nbconvert_exporter": "python",
   "pygments_lexer": "ipython2",
   "version": "2.7.15"
  }
 },
 "nbformat": 4,
 "nbformat_minor": 2
}
